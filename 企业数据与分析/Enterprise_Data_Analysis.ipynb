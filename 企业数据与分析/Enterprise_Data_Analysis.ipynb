{
  "nbformat": 4,
  "nbformat_minor": 0,
  "metadata": {
    "colab": {
      "provenance": [],
      "gpuType": "T4"
    },
    "kernelspec": {
      "name": "python3",
      "display_name": "Python 3"
    },
    "language_info": {
      "name": "python"
    },
    "accelerator": "GPU"
  },
  "cells": [
    {
      "cell_type": "code",
      "execution_count": 1,
      "metadata": {
        "id": "GZxNzZEWu92m"
      },
      "outputs": [],
      "source": [
        "import numpy as np\n",
        "import pandas as pd\n",
        "from keras.models import Sequential\n",
        "from keras.layers.core import Dense, Activation\n",
        "import matplotlib.pylab as plt   # 绘制图像库"
      ]
    },
    {
      "cell_type": "code",
      "source": [
        "def GM11(x0): #自定义灰色预测函数\n",
        "  import numpy as np\n",
        "  x1 = x0.cumsum() #1-AGO序列\n",
        "  z1 = (x1[:len(x1)-1] + x1[1:])/2.0\n",
        "  z1 = z1.reshape((len(z1),1))\n",
        "  B = np.append(-z1, np.ones_like(z1), axis = 1)\n",
        "  Yn = x0[1:].reshape((len(x0)-1, 1))\n",
        "  [[a],[b]] = np.dot(np.dot(np.linalg.inv(np.dot(B.T, B)), B.T), Yn) #计算参数\n",
        "  f = lambda k: (x0[0]-b/a)*np.exp(-a*(k-1))-(x0[0]-b/a)*np.exp(-a*(k-2)) #还原值\n",
        "  delta = np.abs(x0 - np.array([f(i) for i in range(1,len(x0)+1)]))\n",
        "  C = delta.std()/x0.std()\n",
        "  P = 1.0*(np.abs(delta - delta.mean()) < 0.6745*x0.std()).sum()/len(x0)\n",
        "  return f, a, b, x0[0], C, P #返回灰色预测函数、a、b、首项、方差比、小残差概率"
      ],
      "metadata": {
        "id": "V8NpQ6ehvQr3"
      },
      "execution_count": 2,
      "outputs": []
    },
    {
      "cell_type": "code",
      "source": [
        "data = pd.read_csv('/data1_qiyeshuju.csv') #读取数据\n",
        "data.index = range(2000,2020) # 标注索引信息年份"
      ],
      "metadata": {
        "id": "8Eoi5mEzvUFi"
      },
      "execution_count": 5,
      "outputs": []
    },
    {
      "cell_type": "code",
      "source": [
        "data.loc[2020] = None\n",
        "data.loc[2021] = None\n",
        "data.loc[2022] = None\n",
        "l = ['x1', 'x2', 'x3', 'x4', 'x5', 'x7']\n",
        "l1 = ['x3','x5','x7']\n",
        "for i in l1:\n",
        "  f,_,_,_,C,_ = GM11(data[i].loc[range(2000,2020)].values)\n",
        "  print(\"%s后验差比值：%0.4f\"%(i,C))   #后验差比值c，即：真实误差的方差同原始数据方差的比值。\n",
        "  data[i].loc[2020] = f(len(data)-2) #2014年预测结果\n",
        "  data[i].loc[2021] = f(len(data)-1) #2015年预测结果\n",
        "  data[i].loc[2022] = f(len(data))  # 2016年预测结果\n",
        "  data[i] = data[i].round(2) #保留两位小数\n",
        "\n",
        "data[l1+['y']].to_csv('GM11.csv') #结果输出"
      ],
      "metadata": {
        "colab": {
          "base_uri": "https://localhost:8080/"
        },
        "id": "q0plshqEvVaj",
        "outputId": "98fde52b-070a-4928-bb90-5f9ae557e1b8"
      },
      "execution_count": 6,
      "outputs": [
        {
          "output_type": "stream",
          "name": "stdout",
          "text": [
            "x3后验差比值：0.1239\n",
            "x5后验差比值：0.0447\n",
            "x7后验差比值：0.1048\n"
          ]
        },
        {
          "output_type": "stream",
          "name": "stderr",
          "text": [
            "<ipython-input-6-468de5217042>:1: FutureWarning: The default dtype for empty Series will be 'object' instead of 'float64' in a future version. Specify a dtype explicitly to silence this warning.\n",
            "  data.loc[2020] = None\n",
            "<ipython-input-6-468de5217042>:2: FutureWarning: The default dtype for empty Series will be 'object' instead of 'float64' in a future version. Specify a dtype explicitly to silence this warning.\n",
            "  data.loc[2021] = None\n",
            "<ipython-input-6-468de5217042>:3: FutureWarning: The default dtype for empty Series will be 'object' instead of 'float64' in a future version. Specify a dtype explicitly to silence this warning.\n",
            "  data.loc[2022] = None\n"
          ]
        }
      ]
    },
    {
      "cell_type": "code",
      "source": [
        "data = pd.read_csv('GM11.csv',index_col = 0) #读取数据\n",
        "feature = ['x3','x5','x7']  # 提取特征"
      ],
      "metadata": {
        "id": "wqtK8yKDvYBR"
      },
      "execution_count": 7,
      "outputs": []
    },
    {
      "cell_type": "code",
      "source": [
        "data_train = data.loc[range(2000,2020)] #取2014年前的数据建模\n",
        "print(data_train)\n",
        "data_mean = data_train.mean()\n",
        "data_std = data_train.std()\n",
        "data_train = (data_train - data_mean)/data_std  #数据标准化 后进行训练\n",
        "\n",
        "x_train = data_train[feature].values #特征数据\n",
        "y_train = data_train['y'].values #标签数据"
      ],
      "metadata": {
        "colab": {
          "base_uri": "https://localhost:8080/"
        },
        "id": "N3d78-nPvY1h",
        "outputId": "6343fcc2-d20c-4d1d-eb92-cd4f3743a1b3"
      },
      "execution_count": 8,
      "outputs": [
        {
          "output_type": "stream",
          "name": "stdout",
          "text": [
            "           x3        x5       x7        y\n",
            "2000   448.19   6212.70   525.71    64.87\n",
            "2001   549.97   7601.73   618.25    99.75\n",
            "2002   686.44   8092.82   638.94    88.11\n",
            "2003   802.59   8767.98   656.58   106.07\n",
            "2004   904.57   9422.33   758.83   137.32\n",
            "2005  1000.69   9751.44   878.26   188.14\n",
            "2006  1121.13  11349.47   923.67   219.91\n",
            "2007  1248.29  11467.35   978.21   271.91\n",
            "2008  1370.68  10671.78  1009.24   269.10\n",
            "2009  1494.27  11570.58  1175.17   300.55\n",
            "2010  1677.77  13120.83  1348.93   338.45\n",
            "2011  1905.84  14468.24  1519.16   408.86\n",
            "2012  2199.14  15444.93  1696.38   476.72\n",
            "2013  2624.24  18951.32  1863.34   838.99\n",
            "2014  3187.39  20835.95  2105.54   843.14\n",
            "2015  3615.77  22820.89  2659.85  1107.67\n",
            "2016  4476.38  25011.61  3263.57  1399.16\n",
            "2017  5243.03  28209.74  3412.21  1535.14\n",
            "2018  5977.27  30490.44  3758.39  1579.68\n",
            "2019  6882.85  33156.83  4454.55  2088.14\n"
          ]
        }
      ]
    },
    {
      "cell_type": "code",
      "source": [
        "model = Sequential() #建立模型\n",
        "model.add(Dense(12,activation='relu',input_dim=3))\n",
        "model.add(Dense(24,activation='relu'))  # 隐藏层\n",
        "model.add(Dense(1))  # 输出层\n",
        "model.compile(loss='mean_squared_error', optimizer='adam') #编译模型\n",
        "model.fit(x_train, y_train, epochs = 100, batch_size = 16,verbose=2) #训练模型，训练1000次\n",
        "model.save_weights('net.model') #保存模型参数"
      ],
      "metadata": {
        "colab": {
          "base_uri": "https://localhost:8080/"
        },
        "id": "-XLFp4FtvbkY",
        "outputId": "5a2496fe-d7df-43a9-b608-db0d251af0d7"
      },
      "execution_count": 13,
      "outputs": [
        {
          "output_type": "stream",
          "name": "stdout",
          "text": [
            "Epoch 1/100\n",
            "2/2 - 1s - loss: 0.6587 - 1s/epoch - 578ms/step\n",
            "Epoch 2/100\n",
            "2/2 - 0s - loss: 0.5794 - 9ms/epoch - 5ms/step\n",
            "Epoch 3/100\n",
            "2/2 - 0s - loss: 0.5141 - 9ms/epoch - 4ms/step\n",
            "Epoch 4/100\n",
            "2/2 - 0s - loss: 0.4485 - 9ms/epoch - 4ms/step\n",
            "Epoch 5/100\n",
            "2/2 - 0s - loss: 0.3827 - 9ms/epoch - 4ms/step\n",
            "Epoch 6/100\n",
            "2/2 - 0s - loss: 0.3361 - 9ms/epoch - 5ms/step\n",
            "Epoch 7/100\n",
            "2/2 - 0s - loss: 0.2878 - 9ms/epoch - 5ms/step\n",
            "Epoch 8/100\n",
            "2/2 - 0s - loss: 0.2446 - 9ms/epoch - 4ms/step\n",
            "Epoch 9/100\n",
            "2/2 - 0s - loss: 0.2024 - 9ms/epoch - 5ms/step\n",
            "Epoch 10/100\n",
            "2/2 - 0s - loss: 0.1645 - 10ms/epoch - 5ms/step\n",
            "Epoch 11/100\n",
            "2/2 - 0s - loss: 0.1300 - 9ms/epoch - 5ms/step\n",
            "Epoch 12/100\n",
            "2/2 - 0s - loss: 0.1068 - 9ms/epoch - 5ms/step\n",
            "Epoch 13/100\n",
            "2/2 - 0s - loss: 0.0825 - 9ms/epoch - 5ms/step\n",
            "Epoch 14/100\n",
            "2/2 - 0s - loss: 0.0639 - 9ms/epoch - 4ms/step\n",
            "Epoch 15/100\n",
            "2/2 - 0s - loss: 0.0484 - 10ms/epoch - 5ms/step\n",
            "Epoch 16/100\n",
            "2/2 - 0s - loss: 0.0336 - 10ms/epoch - 5ms/step\n",
            "Epoch 17/100\n",
            "2/2 - 0s - loss: 0.0279 - 9ms/epoch - 4ms/step\n",
            "Epoch 18/100\n",
            "2/2 - 0s - loss: 0.0213 - 9ms/epoch - 5ms/step\n",
            "Epoch 19/100\n",
            "2/2 - 0s - loss: 0.0171 - 8ms/epoch - 4ms/step\n",
            "Epoch 20/100\n",
            "2/2 - 0s - loss: 0.0147 - 12ms/epoch - 6ms/step\n",
            "Epoch 21/100\n",
            "2/2 - 0s - loss: 0.0128 - 11ms/epoch - 5ms/step\n",
            "Epoch 22/100\n",
            "2/2 - 0s - loss: 0.0131 - 9ms/epoch - 4ms/step\n",
            "Epoch 23/100\n",
            "2/2 - 0s - loss: 0.0130 - 8ms/epoch - 4ms/step\n",
            "Epoch 24/100\n",
            "2/2 - 0s - loss: 0.0137 - 9ms/epoch - 4ms/step\n",
            "Epoch 25/100\n",
            "2/2 - 0s - loss: 0.0139 - 9ms/epoch - 4ms/step\n",
            "Epoch 26/100\n",
            "2/2 - 0s - loss: 0.0138 - 10ms/epoch - 5ms/step\n",
            "Epoch 27/100\n",
            "2/2 - 0s - loss: 0.0138 - 9ms/epoch - 4ms/step\n",
            "Epoch 28/100\n",
            "2/2 - 0s - loss: 0.0136 - 9ms/epoch - 4ms/step\n",
            "Epoch 29/100\n",
            "2/2 - 0s - loss: 0.0131 - 10ms/epoch - 5ms/step\n",
            "Epoch 30/100\n",
            "2/2 - 0s - loss: 0.0126 - 8ms/epoch - 4ms/step\n",
            "Epoch 31/100\n",
            "2/2 - 0s - loss: 0.0120 - 9ms/epoch - 4ms/step\n",
            "Epoch 32/100\n",
            "2/2 - 0s - loss: 0.0115 - 10ms/epoch - 5ms/step\n",
            "Epoch 33/100\n",
            "2/2 - 0s - loss: 0.0110 - 22ms/epoch - 11ms/step\n",
            "Epoch 34/100\n",
            "2/2 - 0s - loss: 0.0107 - 11ms/epoch - 5ms/step\n",
            "Epoch 35/100\n",
            "2/2 - 0s - loss: 0.0105 - 8ms/epoch - 4ms/step\n",
            "Epoch 36/100\n",
            "2/2 - 0s - loss: 0.0102 - 9ms/epoch - 5ms/step\n",
            "Epoch 37/100\n",
            "2/2 - 0s - loss: 0.0100 - 10ms/epoch - 5ms/step\n",
            "Epoch 38/100\n",
            "2/2 - 0s - loss: 0.0098 - 10ms/epoch - 5ms/step\n",
            "Epoch 39/100\n",
            "2/2 - 0s - loss: 0.0096 - 8ms/epoch - 4ms/step\n",
            "Epoch 40/100\n",
            "2/2 - 0s - loss: 0.0095 - 9ms/epoch - 4ms/step\n",
            "Epoch 41/100\n",
            "2/2 - 0s - loss: 0.0094 - 9ms/epoch - 5ms/step\n",
            "Epoch 42/100\n",
            "2/2 - 0s - loss: 0.0093 - 10ms/epoch - 5ms/step\n",
            "Epoch 43/100\n",
            "2/2 - 0s - loss: 0.0092 - 8ms/epoch - 4ms/step\n",
            "Epoch 44/100\n",
            "2/2 - 0s - loss: 0.0090 - 10ms/epoch - 5ms/step\n",
            "Epoch 45/100\n",
            "2/2 - 0s - loss: 0.0088 - 9ms/epoch - 4ms/step\n",
            "Epoch 46/100\n",
            "2/2 - 0s - loss: 0.0087 - 8ms/epoch - 4ms/step\n",
            "Epoch 47/100\n",
            "2/2 - 0s - loss: 0.0086 - 9ms/epoch - 4ms/step\n",
            "Epoch 48/100\n",
            "2/2 - 0s - loss: 0.0085 - 9ms/epoch - 5ms/step\n",
            "Epoch 49/100\n",
            "2/2 - 0s - loss: 0.0084 - 9ms/epoch - 5ms/step\n",
            "Epoch 50/100\n",
            "2/2 - 0s - loss: 0.0084 - 10ms/epoch - 5ms/step\n",
            "Epoch 51/100\n",
            "2/2 - 0s - loss: 0.0081 - 9ms/epoch - 5ms/step\n",
            "Epoch 52/100\n",
            "2/2 - 0s - loss: 0.0080 - 13ms/epoch - 6ms/step\n",
            "Epoch 53/100\n",
            "2/2 - 0s - loss: 0.0078 - 9ms/epoch - 5ms/step\n",
            "Epoch 54/100\n",
            "2/2 - 0s - loss: 0.0077 - 9ms/epoch - 4ms/step\n",
            "Epoch 55/100\n",
            "2/2 - 0s - loss: 0.0075 - 9ms/epoch - 5ms/step\n",
            "Epoch 56/100\n",
            "2/2 - 0s - loss: 0.0074 - 10ms/epoch - 5ms/step\n",
            "Epoch 57/100\n",
            "2/2 - 0s - loss: 0.0074 - 11ms/epoch - 5ms/step\n",
            "Epoch 58/100\n",
            "2/2 - 0s - loss: 0.0073 - 9ms/epoch - 5ms/step\n",
            "Epoch 59/100\n",
            "2/2 - 0s - loss: 0.0072 - 9ms/epoch - 5ms/step\n",
            "Epoch 60/100\n",
            "2/2 - 0s - loss: 0.0071 - 9ms/epoch - 4ms/step\n",
            "Epoch 61/100\n",
            "2/2 - 0s - loss: 0.0070 - 8ms/epoch - 4ms/step\n",
            "Epoch 62/100\n",
            "2/2 - 0s - loss: 0.0070 - 9ms/epoch - 4ms/step\n",
            "Epoch 63/100\n",
            "2/2 - 0s - loss: 0.0070 - 10ms/epoch - 5ms/step\n",
            "Epoch 64/100\n",
            "2/2 - 0s - loss: 0.0070 - 9ms/epoch - 5ms/step\n",
            "Epoch 65/100\n",
            "2/2 - 0s - loss: 0.0070 - 10ms/epoch - 5ms/step\n",
            "Epoch 66/100\n",
            "2/2 - 0s - loss: 0.0069 - 10ms/epoch - 5ms/step\n",
            "Epoch 67/100\n",
            "2/2 - 0s - loss: 0.0068 - 12ms/epoch - 6ms/step\n",
            "Epoch 68/100\n",
            "2/2 - 0s - loss: 0.0067 - 15ms/epoch - 8ms/step\n",
            "Epoch 69/100\n",
            "2/2 - 0s - loss: 0.0066 - 9ms/epoch - 5ms/step\n",
            "Epoch 70/100\n",
            "2/2 - 0s - loss: 0.0065 - 10ms/epoch - 5ms/step\n",
            "Epoch 71/100\n",
            "2/2 - 0s - loss: 0.0066 - 9ms/epoch - 4ms/step\n",
            "Epoch 72/100\n",
            "2/2 - 0s - loss: 0.0064 - 9ms/epoch - 4ms/step\n",
            "Epoch 73/100\n",
            "2/2 - 0s - loss: 0.0064 - 9ms/epoch - 4ms/step\n",
            "Epoch 74/100\n",
            "2/2 - 0s - loss: 0.0063 - 9ms/epoch - 5ms/step\n",
            "Epoch 75/100\n",
            "2/2 - 0s - loss: 0.0063 - 8ms/epoch - 4ms/step\n",
            "Epoch 76/100\n",
            "2/2 - 0s - loss: 0.0062 - 9ms/epoch - 5ms/step\n",
            "Epoch 77/100\n",
            "2/2 - 0s - loss: 0.0063 - 10ms/epoch - 5ms/step\n",
            "Epoch 78/100\n",
            "2/2 - 0s - loss: 0.0064 - 9ms/epoch - 4ms/step\n",
            "Epoch 79/100\n",
            "2/2 - 0s - loss: 0.0065 - 9ms/epoch - 5ms/step\n",
            "Epoch 80/100\n",
            "2/2 - 0s - loss: 0.0066 - 20ms/epoch - 10ms/step\n",
            "Epoch 81/100\n",
            "2/2 - 0s - loss: 0.0066 - 13ms/epoch - 7ms/step\n",
            "Epoch 82/100\n",
            "2/2 - 0s - loss: 0.0065 - 11ms/epoch - 6ms/step\n",
            "Epoch 83/100\n",
            "2/2 - 0s - loss: 0.0063 - 9ms/epoch - 5ms/step\n",
            "Epoch 84/100\n",
            "2/2 - 0s - loss: 0.0061 - 11ms/epoch - 5ms/step\n",
            "Epoch 85/100\n",
            "2/2 - 0s - loss: 0.0060 - 8ms/epoch - 4ms/step\n",
            "Epoch 86/100\n",
            "2/2 - 0s - loss: 0.0059 - 10ms/epoch - 5ms/step\n",
            "Epoch 87/100\n",
            "2/2 - 0s - loss: 0.0059 - 13ms/epoch - 7ms/step\n",
            "Epoch 88/100\n",
            "2/2 - 0s - loss: 0.0059 - 9ms/epoch - 4ms/step\n",
            "Epoch 89/100\n",
            "2/2 - 0s - loss: 0.0060 - 9ms/epoch - 4ms/step\n",
            "Epoch 90/100\n",
            "2/2 - 0s - loss: 0.0061 - 9ms/epoch - 5ms/step\n",
            "Epoch 91/100\n",
            "2/2 - 0s - loss: 0.0063 - 8ms/epoch - 4ms/step\n",
            "Epoch 92/100\n",
            "2/2 - 0s - loss: 0.0062 - 10ms/epoch - 5ms/step\n",
            "Epoch 93/100\n",
            "2/2 - 0s - loss: 0.0060 - 10ms/epoch - 5ms/step\n",
            "Epoch 94/100\n",
            "2/2 - 0s - loss: 0.0060 - 9ms/epoch - 4ms/step\n",
            "Epoch 95/100\n",
            "2/2 - 0s - loss: 0.0059 - 8ms/epoch - 4ms/step\n",
            "Epoch 96/100\n",
            "2/2 - 0s - loss: 0.0059 - 10ms/epoch - 5ms/step\n",
            "Epoch 97/100\n",
            "2/2 - 0s - loss: 0.0059 - 10ms/epoch - 5ms/step\n",
            "Epoch 98/100\n",
            "2/2 - 0s - loss: 0.0057 - 9ms/epoch - 5ms/step\n",
            "Epoch 99/100\n",
            "2/2 - 0s - loss: 0.0058 - 9ms/epoch - 5ms/step\n",
            "Epoch 100/100\n",
            "2/2 - 0s - loss: 0.0056 - 9ms/epoch - 5ms/step\n"
          ]
        }
      ]
    },
    {
      "cell_type": "code",
      "source": [
        "x = ((data[feature] - data_mean[feature])/data_std[feature]).values\n",
        "data[u'y_pred'] = model.predict(x) * data_std['y'] + data_mean['y']\n",
        "data.to_csv('result.csv')"
      ],
      "metadata": {
        "colab": {
          "base_uri": "https://localhost:8080/"
        },
        "id": "MfBfYBzoveBo",
        "outputId": "70c97b3c-918f-436e-c32a-7decabf87e29"
      },
      "execution_count": 14,
      "outputs": [
        {
          "output_type": "stream",
          "name": "stdout",
          "text": [
            "1/1 [==============================] - 0s 96ms/step\n"
          ]
        }
      ]
    },
    {
      "cell_type": "code",
      "source": [
        "p = pd.read_csv('result.csv')\n",
        "p = p[['y','y_pred']].copy()\n",
        "p.index=range(2000,2023)\n",
        "p.plot(style=['b-o','r-*'],xticks=p.index,figsize=(15,5))\n",
        "plt.xlabel(\"Year\")\n",
        "plt.show()"
      ],
      "metadata": {
        "colab": {
          "base_uri": "https://localhost:8080/",
          "height": 465
        },
        "id": "1Z36kBcHvfKz",
        "outputId": "47a272d9-6611-4573-b727-1d4737f25f1f"
      },
      "execution_count": 15,
      "outputs": [
        {
          "output_type": "display_data",
          "data": {
            "text/plain": [
              "<Figure size 1500x500 with 1 Axes>"
            ],
            "image/png": "[encoded data removed]"
          },
          "metadata": {}
        }
      ]
    },
    {
      "cell_type": "markdown",
      "source": [
        "# 新段落"
      ],
      "metadata": {
        "id": "xhyHlQnDwfiI"
      }
    }
  ]
}